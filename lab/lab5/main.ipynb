{
 "cells": [
  {
   "attachments": {},
   "cell_type": "markdown",
   "metadata": {},
   "source": [
    "# Function"
   ]
  },
  {
   "cell_type": "code",
   "execution_count": 1,
   "metadata": {},
   "outputs": [],
   "source": [
    "import pandas as pd\n",
    "import numpy as np\n",
    "import matplotlib.pyplot as plt\n",
    "from sklearn.neighbors import KNeighborsClassifier\n",
    "from sklearn.feature_selection import mutual_info_classif\n",
    "import plotly.graph_objs as go"
   ]
  },
  {
   "cell_type": "code",
   "execution_count": 2,
   "metadata": {},
   "outputs": [],
   "source": [
    "# in common use\n",
    "def min_max_normalization(data):\n",
    "    return (data - np.min(data, axis = 0))/(np.max(data, axis = 0) - np.min(data, axis = 0))\n",
    "\n",
    "def concatenate_two_1D_array(X1,X2):\n",
    "    return np.concatenate((X1.reshape(len(X1),1),X2.reshape(len(X2),1)),axis=1)\n",
    "\n",
    "def sort_by_row_in_2D_array_descending(X,row_number):\n",
    "    ind = np.argsort(-X[:,row_number])\n",
    "    return X[ind,:]\n",
    "\n",
    "def select_feature(X,selected_feature):\n",
    "    return X[:,selected_feature]\n",
    "\n",
    "def accuracy(y,y_pred):\n",
    "    return sum(y_pred == y)/len(y_pred == y)\n",
    "\n",
    "def save_ndarray_to_csv(X,filename):\n",
    "    X = pd.DataFrame(X)\n",
    "    X.to_csv(\"{}.csv\".format(filename), index=True)"
   ]
  },
  {
   "cell_type": "code",
   "execution_count": 3,
   "metadata": {},
   "outputs": [],
   "source": [
    "# split categorical feature and continuous feature\n",
    "# judge\n",
    "def Is_Continuous(X_train, unique_value_threshold):\n",
    "    return np.array([len(np.unique(X_train[:,i])) > unique_value_threshold for i in range(X_train.shape[1])])\n",
    "\n",
    "# check len unique\n",
    "def check_len_unique(X_train):\n",
    "    len_unique = np.zeros(X_train.shape[1])\n",
    "    for i in range(X_train.shape[1]):\n",
    "        len_unique[i] = len(np.unique(X_train[:, i]))\n",
    "    return len_unique"
   ]
  },
  {
   "cell_type": "code",
   "execution_count": 4,
   "metadata": {},
   "outputs": [],
   "source": [
    "# RELIEF-F\n",
    "from sklearn.neighbors import NearestNeighbors\n",
    "\n",
    "def diff(x_1,x_2,is_categorical):\n",
    "    if is_categorical == True: # categorical\n",
    "        if x_1 == x_2:\n",
    "            return 0\n",
    "        if x_1 != x_2:\n",
    "            return 1\n",
    "    if is_categorical == False: # continuous\n",
    "        return np.abs(x_1 - x_2)\n",
    "\n",
    "def reliefF(X_train, y_train, n_neighbors, is_categorical):\n",
    "    \n",
    "    # prepare\n",
    "    n_samples, n_features = X_train.shape\n",
    "    weight_of_feature = np.zeros(n_features)\n",
    "\n",
    "    # get the frequency of each label in y_train\n",
    "    counts = np.bincount(y_train)\n",
    "    frequency = counts / y_train.shape\n",
    "    \n",
    "    # use NearestNeighbors of sklearn to get enough neighbors\n",
    "    n_multiple = 10 # With lab5's ball-like bad data, 10x is enough\n",
    "    neigh = NearestNeighbors(n_neighbors = n_neighbors * len(counts) * n_multiple + 1, metric='minkowski', p = 1) # len(counts) = 4\n",
    "    neigh.fit(X_train)\n",
    "    _, hit_miss_indices = neigh.kneighbors(X_train)\n",
    "    hit_miss_indices = hit_miss_indices[:, 1:]\n",
    "    \n",
    "    # for each sample i\n",
    "    for i in range(n_samples):\n",
    "\n",
    "        # get hit indices, the amount equals n_neighbors\n",
    "        hit_indices = hit_miss_indices[i][y_train[hit_miss_indices[i]] == y_train[i]]\n",
    "        if len(hit_indices) < n_neighbors:\n",
    "            raise ValueError(\"length of hit_indices is less than n_neighbors\")\n",
    "        else:\n",
    "            hit_indices = hit_indices[0:n_neighbors]\n",
    "        \n",
    "        # get miss indices, the amount equals n_neighbors for each miss class\n",
    "        miss_indices = hit_miss_indices[i][y_train[hit_miss_indices[i]] != y_train[i]]        \n",
    "        miss_label = y_train[miss_indices]\n",
    "        miss_ind_and_label = np.concatenate((miss_indices.reshape(len(miss_indices),1),miss_label.reshape(len(miss_label),1)),axis=1)\n",
    "        label = np.unique(miss_ind_and_label[:,1])\n",
    "        count = np.zeros(len(label))\n",
    "        delete = []        \n",
    "        for k in range(miss_ind_and_label.shape[0]): # for each row k of miss_ind_and_label\n",
    "            for l in range(len(label)): # len(label) is the number of class in y_train minus 1\n",
    "                if miss_ind_and_label[k,1] == label[l]:\n",
    "                    count[l] += 1\n",
    "                    if count[l] >= n_neighbors + 1:\n",
    "                        delete.append(k)\n",
    "        miss_ind_and_label = np.delete(miss_ind_and_label, delete, axis = 0)\n",
    "        if miss_ind_and_label.shape[0] != (len(label))*n_neighbors:\n",
    "            raise ValueError(\"length of miss_indices is less than n_neighbors\")\n",
    "        miss_indices = miss_ind_and_label[:,0]\n",
    "\n",
    "        # for each feature j\n",
    "        for j in range(n_features):\n",
    "            for hit_idx in hit_indices:      \n",
    "                weight_of_feature[j] -= diff(X_train[i, j],X_train[hit_idx, j],is_categorical[j]) / n_neighbors\n",
    "            for miss_idx in miss_indices:\n",
    "                weight_of_miss = frequency[y_train[miss_idx]]/(1 - frequency[y_train[i]]) # calculate weighted average of miss classes\n",
    "                weight_of_feature[j] += diff(X_train[i, j],X_train[miss_idx, j],is_categorical[j]) / n_neighbors * weight_of_miss\n",
    "\n",
    "    return weight_of_feature"
   ]
  },
  {
   "cell_type": "code",
   "execution_count": 5,
   "metadata": {},
   "outputs": [],
   "source": [
    "# I mutual\n",
    "def run_many_times_for_continuous_features_to_calculate_I_mutual(X_train_continuous_features,y_train,n_sample,n_loop,n_continuous):\n",
    "    I_mutual_sum = np.zeros(n_continuous)\n",
    "    for i in range(n_loop):\n",
    "        df = np.concatenate((X_train_continuous_features, y_train.reshape(len(y_train),1)), axis = 1)\n",
    "        np.random.shuffle(df)\n",
    "        df = df[0:n_sample, :]\n",
    "        discrete_vars = np.zeros((n_continuous,), dtype=bool)\n",
    "        I_mutual = mutual_info_classif(df[:,0:n_continuous], df[:,n_continuous], discrete_features = discrete_vars)\n",
    "        I_mutual_sum = I_mutual_sum + I_mutual\n",
    "    I_mutual_average = I_mutual_sum / n_loop\n",
    "    return I_mutual_average\n",
    "\n",
    "# you may use this function if you choose more categorical features than 23\n",
    "def discretize_by_decimal_place(categorical_features, decimal_places):\n",
    "    categorical_features_rounded = np.round(categorical_features, decimal_places)\n",
    "    return categorical_features_rounded"
   ]
  },
  {
   "cell_type": "code",
   "execution_count": 6,
   "metadata": {},
   "outputs": [],
   "source": [
    "# visualization\n",
    "def plot_2D(train_feature_2D, train_label):\n",
    "\n",
    "    # concatenate to stain the dots\n",
    "    df = np.concatenate((train_feature_2D, train_label), axis=1)\n",
    "\n",
    "    # plot\n",
    "    fig = plt.figure()\n",
    "    ax1 = fig.add_subplot(111)\n",
    "    colors_list = [\"r\", \"g\", \"b\", \"k\"]\n",
    "    ax1.scatter(df[:, 0], df[:, 1], c=[colors_list[int(i)] for i in df[:, 2]])\n",
    "\n",
    "def plot_3D(train_feature_3D, train_label):\n",
    "\n",
    "    x = train_feature_3D[:, 0]\n",
    "    y = train_feature_3D[:, 1]\n",
    "    z = train_feature_3D[:, 2]\n",
    "    colors = ['red' if label == 0 else 'blue' if label == 1 else 'green' if label == 2 else 'black' for label in train_label]\n",
    "\n",
    "    trace = go.Scatter3d(\n",
    "        x=x,\n",
    "        y=y,\n",
    "        z=z,\n",
    "        mode='markers',\n",
    "        marker=dict(\n",
    "            color=colors,\n",
    "            size=12,\n",
    "            symbol='circle',\n",
    "            line=None,\n",
    "            opacity=0.9\n",
    "        )\n",
    "    )\n",
    "    data = [trace]\n",
    "\n",
    "    layout = go.Layout(\n",
    "        margin=dict(\n",
    "            l=0,\n",
    "            r=0,\n",
    "            b=0,\n",
    "            t=0\n",
    "        )\n",
    "    )\n",
    "\n",
    "    fig = go.Figure(data=data, layout=layout)\n",
    "\n",
    "    fig.update_layout(\n",
    "        title=\"3D Scatter Plot\",\n",
    "        scene = dict(\n",
    "            xaxis_title='X-axis',\n",
    "            yaxis_title='Y-axis',\n",
    "            zaxis_title='Z-axis'\n",
    "        )\n",
    "    )\n",
    "\n",
    "    fig.show()"
   ]
  },
  {
   "attachments": {},
   "cell_type": "markdown",
   "metadata": {},
   "source": [
    "# Load Dataset"
   ]
  },
  {
   "cell_type": "code",
   "execution_count": 7,
   "metadata": {},
   "outputs": [],
   "source": [
    "# read\n",
    "train_feature = pd.read_csv('Dataset/train_feature.csv')\n",
    "train_null = train_feature.isnull().sum() # Checking the Missing Values (nan)\n",
    "train_describe = train_feature.describe() # descriptive statistics\n",
    "\n",
    "test_feature = pd.read_csv('Dataset/test_feature.csv')\n",
    "test_null = test_feature.isnull().sum() # Checking the Missing Values (nan)\n",
    "test_describe = test_feature.describe() # descriptive statistics\n",
    "\n",
    "train_label = pd.read_csv('Dataset/train_label.csv')\n",
    "train_label_count = train_label.value_counts() # count different label\n",
    "\n",
    "# to numpy\n",
    "train_feature = train_feature.to_numpy() \n",
    "test_feature = test_feature.to_numpy()\n",
    "train_label = train_label.to_numpy()"
   ]
  },
  {
   "attachments": {},
   "cell_type": "markdown",
   "metadata": {},
   "source": [
    "# Preprocess"
   ]
  },
  {
   "attachments": {},
   "cell_type": "markdown",
   "metadata": {},
   "source": [
    "## process nan"
   ]
  },
  {
   "cell_type": "code",
   "execution_count": 8,
   "metadata": {},
   "outputs": [],
   "source": [
    "# use median to take the place of nan\n",
    "def nan_to_median(train_feature):\n",
    "    median = np.nanmedian(train_feature, axis = 0)\n",
    "    for i in range(train_feature.shape[1]):\n",
    "        train_feature[:, i] = np.where(np.isnan(train_feature[:, i]), median[i], train_feature[:, i])\n",
    "\n",
    "# process train_feature and test_feature\n",
    "nan_to_median(train_feature)\n",
    "nan_to_median(test_feature)"
   ]
  },
  {
   "attachments": {},
   "cell_type": "markdown",
   "metadata": {},
   "source": [
    "## process outliers"
   ]
  },
  {
   "attachments": {},
   "cell_type": "markdown",
   "metadata": {},
   "source": [
    "### Tukey test"
   ]
  },
  {
   "cell_type": "code",
   "execution_count": 9,
   "metadata": {},
   "outputs": [],
   "source": [
    "def Tukey_test(train_feature, IQR_index):\n",
    "    upper_percentile = 75\n",
    "    lower_percentile = 25\n",
    "    upper_bound = np.percentile(train_feature, upper_percentile, axis=0)\n",
    "    lower_bound = np.percentile(train_feature, lower_percentile, axis=0)\n",
    "    IQR = upper_bound - lower_bound    \n",
    "    up_limit = upper_bound + IQR * IQR_index\n",
    "    down_limit = lower_bound - IQR * IQR_index\n",
    "    mask = np.logical_and(train_feature >= down_limit, train_feature <= up_limit) # mask is normal, ~mask is outlier\n",
    "    number_of_outliers = np.sum(~mask)\n",
    "    return number_of_outliers, mask"
   ]
  },
  {
   "attachments": {},
   "cell_type": "markdown",
   "metadata": {},
   "source": [
    "#### decide IQR index for Tukey test\n",
    "* method 1: draw graph of number of outliers versus IQR index\n",
    "* method 2: compare IQR index by seeing Jupyter variables\n",
    "* method 3: draw histograms of all features"
   ]
  },
  {
   "attachments": {},
   "cell_type": "markdown",
   "metadata": {},
   "source": [
    "method 1: draw graph of number of outliers versus IQR index"
   ]
  },
  {
   "cell_type": "code",
   "execution_count": 10,
   "metadata": {},
   "outputs": [
    {
     "data": {
      "image/png": "[encoded data removed]",
      "text/plain": [
       "<Figure size 432x288 with 1 Axes>"
      ]
     },
     "metadata": {
      "needs_background": "light"
     },
     "output_type": "display_data"
    },
    {
     "data": {
      "image/png": "[encoded data removed]",
      "text/plain": [
       "<Figure size 432x288 with 1 Axes>"
      ]
     },
     "metadata": {
      "needs_background": "light"
     },
     "output_type": "display_data"
    }
   ],
   "source": [
    "def plot_number_of_outliers_vs_IQR_index(train_feature, IQR_index_max):\n",
    "\n",
    "    # draw graph of number of outliers versus IQR index\n",
    "    count = 0\n",
    "    x = np.arange(2,IQR_index_max,1)\n",
    "    number_of_outliers = np.zeros(x.size)\n",
    "    for IQR_index in x:\n",
    "        number_of_outliers[count], _ = Tukey_test(train_feature, IQR_index)\n",
    "        count = count + 1\n",
    "    fig = plt.figure() \n",
    "    ax1 = fig.add_subplot(111)\n",
    "    plt.xlabel('IQR index') \n",
    "    plt.ylabel('number_of_outliers') \n",
    "    ax1.scatter(x, number_of_outliers)\n",
    "\n",
    "    # create a table of x and number_of_outliers to see them more conveniently\n",
    "    table = np.zeros((len(x),2))\n",
    "    table[:,0] = x\n",
    "    table[:,1] = number_of_outliers\n",
    "    return table\n",
    "\n",
    "# train_feature\n",
    "IQR_index_max = 20\n",
    "table_train = plot_number_of_outliers_vs_IQR_index(train_feature, IQR_index_max)\n",
    "\n",
    "# test_feature\n",
    "IQR_index_max = 20\n",
    "table_test = plot_number_of_outliers_vs_IQR_index(test_feature, IQR_index_max)"
   ]
  },
  {
   "attachments": {},
   "cell_type": "markdown",
   "metadata": {},
   "source": [
    "method 2: compare IQR index by seeing Jupyter variables"
   ]
  },
  {
   "cell_type": "code",
   "execution_count": 11,
   "metadata": {},
   "outputs": [],
   "source": [
    "def outliers_to_median(train_feature, IQR_index): # shallow replicate\n",
    "    _, mask = Tukey_test(train_feature, IQR_index) \n",
    "    median = np.nanmedian(train_feature, axis = 0)\n",
    "    for i in range(train_feature.shape[1]):\n",
    "        train_feature[:, i] = np.where(mask[:,i], train_feature[:, i], median[i]) # mask is normal, ~mask is outlier\n",
    "    return train_feature\n",
    "\n",
    "# check outliers and normal values or train_feature and test_feature\n",
    "\n",
    "# train_feature\n",
    "\n",
    "# train_feature_7 = train_feature.copy()\n",
    "# IQR_index = 7\n",
    "# _ = outliers_to_median(train_feature_7, IQR_index)\n",
    "\n",
    "# train_feature_10 = train_feature.copy()\n",
    "# IQR_index = 10\n",
    "# _ = outliers_to_median(train_feature_10, IQR_index)\n",
    "\n",
    "# train_feature_15 = train_feature.copy()\n",
    "# IQR_index = 15\n",
    "# _ = outliers_to_median(train_feature_15, IQR_index)\n",
    "\n",
    "# train_feature_20 = train_feature.copy()\n",
    "# IQR_index = 20\n",
    "# _ = outliers_to_median(train_feature_20, IQR_index)\n",
    "\n",
    "# test_feature\n",
    "\n",
    "# test_feature_7 = test_feature.copy()\n",
    "# IQR_index = 7\n",
    "# _ = outliers_to_median(test_feature_7, IQR_index)\n",
    "\n",
    "# test_feature_10 = test_feature.copy()\n",
    "# IQR_index = 10\n",
    "# _ = outliers_to_median(test_feature_10, IQR_index)\n",
    "\n",
    "# test_feature_15 = test_feature.copy()\n",
    "# IQR_index = 15\n",
    "# _ = outliers_to_median(test_feature_15, IQR_index)\n",
    "\n",
    "# test_feature_20 = test_feature.copy()\n",
    "# IQR_index = 20\n",
    "# _ = outliers_to_median(test_feature_20, IQR_index)"
   ]
  },
  {
   "attachments": {},
   "cell_type": "markdown",
   "metadata": {},
   "source": [
    "method 3: draw histograms of all features"
   ]
  },
  {
   "cell_type": "code",
   "execution_count": 12,
   "metadata": {},
   "outputs": [],
   "source": [
    "def histogram_all_features(train_feature, filename): # you must create a file named filename in this name before using this function\n",
    "    for i in range(train_feature.shape[1]):\n",
    "        plt.hist(train_feature[:, i], density=False,\n",
    "                bins=30, facecolor=\"blue\", edgecolor=\"black\")\n",
    "        plt.xlabel('feature %i' % i)\n",
    "        plt.ylabel('count')\n",
    "        plt.savefig('{}/fig_{}.png'.format(filename, i))\n",
    "        plt.cla()\n",
    "        \n",
    "def decide_by_hist(train_feature, IQR_index):\n",
    "    train_feature = train_feature.copy() # create a copy of the array, in this way, you can make a deep replicate instead of a shallow replicate\n",
    "    train_feature = outliers_to_median(train_feature, IQR_index)\n",
    "    histogram_all_features(train_feature, 'IQR_index_{}'.format(IQR_index))\n",
    "\n",
    "# check outliers and normal values of train_feature and test_feature by histogram\n",
    "\n",
    "# train_feature\n",
    "# IQR_index = 7\n",
    "# decide_by_hist(train_feature, IQR_index)\n",
    "\n",
    "# test_feature\n",
    "# IQR_index = 7\n",
    "# decide_by_hist(test_feature, IQR_index)"
   ]
  },
  {
   "attachments": {},
   "cell_type": "markdown",
   "metadata": {},
   "source": [
    "### replace outliers"
   ]
  },
  {
   "cell_type": "code",
   "execution_count": 13,
   "metadata": {},
   "outputs": [],
   "source": [
    "# IQR_index is a hyper-parameter\n",
    "IQR_index = 15\n",
    "\n",
    "# train_feature\n",
    "train_feature = outliers_to_median(train_feature, IQR_index)\n",
    "\n",
    "# test_feature\n",
    "test_feature = outliers_to_median(test_feature, IQR_index)"
   ]
  },
  {
   "attachments": {},
   "cell_type": "markdown",
   "metadata": {},
   "source": [
    "# Calculate Pearson correlation matrix of features"
   ]
  },
  {
   "cell_type": "code",
   "execution_count": 14,
   "metadata": {},
   "outputs": [],
   "source": [
    "temp = pd.DataFrame(train_feature)"
   ]
  },
  {
   "cell_type": "code",
   "execution_count": 15,
   "metadata": {},
   "outputs": [],
   "source": [
    "corr_matrix = temp.corr()"
   ]
  },
  {
   "cell_type": "code",
   "execution_count": 16,
   "metadata": {},
   "outputs": [
    {
     "name": "stdout",
     "output_type": "stream",
     "text": [
      "Index:  69 , Count:  4\n",
      "Index:  92 , Count:  4\n",
      "Index:  5 , Count:  4\n",
      "Index:  73 , Count:  4\n",
      "Index:  89 , Count:  2\n",
      "Index:  50 , Count:  2\n",
      "Index:  82 , Count:  1\n",
      "Index:  79 , Count:  1\n",
      "Index:  80 , Count:  1\n",
      "Index:  81 , Count:  1\n"
     ]
    }
   ],
   "source": [
    "# 根据每一行中绝对值大于 0.7 的元素个数排序，打印前面十项\n",
    "sort_order = corr_matrix.abs().gt(0.7).sum(axis=1).sort_values(ascending=False)\n",
    "for i in sort_order.index[:10]:\n",
    "    print(\"Index: \", i, \", Count: \", sort_order[i])"
   ]
  },
  {
   "attachments": {},
   "cell_type": "markdown",
   "metadata": {},
   "source": [
    "# Split"
   ]
  },
  {
   "cell_type": "code",
   "execution_count": 17,
   "metadata": {},
   "outputs": [],
   "source": [
    "from sklearn.model_selection import train_test_split\n",
    "X = train_feature\n",
    "y = train_label\n",
    "\n",
    "# 2 split\n",
    "# Indeed I use 3 split, not 2 split, because afterwards I will use cross-validation\n",
    "X_train, X_test, y_train, y_test = train_test_split(X, y, test_size=0.2, random_state=42, stratify=y)"
   ]
  },
  {
   "cell_type": "code",
   "execution_count": 18,
   "metadata": {},
   "outputs": [],
   "source": [
    "# reshape\n",
    "y_train = y_train.reshape(len(y_train),)\n",
    "y_test = y_test.reshape(len(y_test),)\n",
    "\n",
    "# number of samples and features in train set\n",
    "n_sample_of_train_set = X_train.shape[0]\n",
    "n_feature = X_train.shape[1]"
   ]
  },
  {
   "attachments": {},
   "cell_type": "markdown",
   "metadata": {},
   "source": [
    "# Normalization"
   ]
  },
  {
   "attachments": {},
   "cell_type": "markdown",
   "metadata": {},
   "source": [
    "split all features into the continuous and the categorical"
   ]
  },
  {
   "cell_type": "code",
   "execution_count": 19,
   "metadata": {},
   "outputs": [],
   "source": [
    "# split\n",
    "threshold_of_unique_value = 23 # a hyper-parameter\n",
    "is_continuous = Is_Continuous(X_train, threshold_of_unique_value)\n",
    "is_categorical = ~is_continuous\n",
    "X_train_continuous_features = X_train[:, is_continuous]\n",
    "X_train_categorical_features = X_train[:, ~is_continuous]\n",
    "\n",
    "# store original rank\n",
    "original_rank_continuous = np.where(is_continuous)[0]\n",
    "original_rank_categorical = np.where(~is_continuous)[0]\n",
    "\n",
    "# number of continuous features and categorical features in train set\n",
    "n_continuous = X_train_continuous_features.shape[1]\n",
    "n_categorical = X_train_categorical_features.shape[1]"
   ]
  },
  {
   "cell_type": "code",
   "execution_count": 20,
   "metadata": {},
   "outputs": [],
   "source": [
    "# min-max-normalization\n",
    "X_train = min_max_normalization(X_train)\n",
    "X_test = min_max_normalization(X_test)"
   ]
  },
  {
   "cell_type": "code",
   "execution_count": 21,
   "metadata": {},
   "outputs": [],
   "source": [
    "test_feature = min_max_normalization(test_feature)"
   ]
  },
  {
   "attachments": {},
   "cell_type": "markdown",
   "metadata": {},
   "source": [
    "# Feature Selection"
   ]
  },
  {
   "attachments": {},
   "cell_type": "markdown",
   "metadata": {},
   "source": [
    "## filter method"
   ]
  },
  {
   "attachments": {},
   "cell_type": "markdown",
   "metadata": {},
   "source": [
    "### RELIEF-F"
   ]
  },
  {
   "cell_type": "code",
   "execution_count": 22,
   "metadata": {},
   "outputs": [],
   "source": [
    "# RELIEF-F\n",
    "n_neigh_RELIEF = 10 # hyper-parameter\n",
    "weight_of_feature = reliefF(X_train, y_train, n_neigh_RELIEF, is_categorical)\n",
    "weight_of_feature_concatenate = concatenate_two_1D_array(weight_of_feature,np.arange(120))\n",
    "weight_of_feature_concatenate = sort_by_row_in_2D_array_descending(weight_of_feature_concatenate,0)\n",
    "\n",
    "# get index of selected feature\n",
    "n_choose_RELIEF = 20 # a hyper-parameter\n",
    "selected_feature_RELIEF = weight_of_feature_concatenate[0:n_choose_RELIEF,1]\n",
    "selected_feature_RELIEF = selected_feature_RELIEF.astype(int)\n",
    "selected_feature_RELIEF = np.sort(selected_feature_RELIEF)"
   ]
  },
  {
   "attachments": {},
   "cell_type": "markdown",
   "metadata": {},
   "source": [
    "KNN"
   ]
  },
  {
   "cell_type": "code",
   "execution_count": 23,
   "metadata": {},
   "outputs": [],
   "source": [
    "# # knn\n",
    "# n_choose = 20\n",
    "# result_knn = np.zeros((n_choose*n_neigh_RELIEF,3))\n",
    "# count = 0\n",
    "# for i in range(1,n_choose,1):\n",
    "\n",
    "#     # select top i features\n",
    "#     selected_feature = weight_of_feature_concatenate[0:i,1]\n",
    "#     selected_feature = selected_feature.astype(int)\n",
    "#     selected_feature = np.sort(selected_feature)\n",
    "#     X_train_RELIEF = select_feature(X_train,selected_feature)\n",
    "#     X_test_RELIEF = select_feature(X_test,selected_feature)\n",
    "\n",
    "#     # perform knn\n",
    "#     for n_neigh_knn in np.arange(1,n_neigh_RELIEF + 1,1):\n",
    "#         knn = KNeighborsClassifier(n_neighbors=n_neigh_knn,p = 1,metric = 'minkowski')\n",
    "#         knn.fit(X_train_RELIEF, y_train)\n",
    "#         y_val_pred = knn.predict(X_test_RELIEF)\n",
    "#         result_knn[count,0] = i\n",
    "#         result_knn[count,1] = n_neigh_knn\n",
    "#         result_knn[count,2] = accuracy(y_test,y_val_pred)\n",
    "#         count += 1"
   ]
  },
  {
   "attachments": {},
   "cell_type": "markdown",
   "metadata": {},
   "source": [
    "### chi2"
   ]
  },
  {
   "attachments": {},
   "cell_type": "markdown",
   "metadata": {},
   "source": [
    "1 time"
   ]
  },
  {
   "cell_type": "code",
   "execution_count": 24,
   "metadata": {},
   "outputs": [],
   "source": [
    "# # make chi2 test between each column of X and y\n",
    "\n",
    "# # def\n",
    "# from scipy.stats import chi2_contingency\n",
    "# def chi2_test(X, y):\n",
    "#     chi2_value = []\n",
    "#     p_value = []\n",
    "#     degree_of_freedom = []\n",
    "#     for i in range(X.shape[1]):\n",
    "#         result = chi2_contingency(pd.crosstab(X[:, i], y))\n",
    "#         chi2_value.append(result[0])\n",
    "#         p_value.append(result[1])\n",
    "#         degree_of_freedom.append(result[2])\n",
    "#     number_of_unique_value = np.array(degree_of_freedom) / 3 # to get unique sample count\n",
    "#     return chi2_value, p_value, number_of_unique_value\n",
    "\n",
    "# # chi 2 for categorical feature\n",
    "# chi2_value_categorical_all_sample, p_value_categorical_all_sample, number_of_unique_value_categorical_all_sample \\\n",
    "#      = chi2_test(categorical_features, train_label.reshape(train_label.shape[0]))\n",
    "\n",
    "# # chi 2 for continuous feature\n",
    "# decimal_places = 2 # a hyper-parameter # this is consistent with the 100 threshold of categarical features\n",
    "# continuous_features_rounded = discretize_by_decimal_place(continuous_features, decimal_places)\n",
    "# chi2_value_continuous_all_sample, p_value_continuous_all_sample, number_of_unique_value_continuous_all_sample \\\n",
    "#      = chi2_test(continuous_features_rounded, train_label.reshape(train_label.shape[0]))"
   ]
  },
  {
   "attachments": {},
   "cell_type": "markdown",
   "metadata": {},
   "source": [
    "multi times"
   ]
  },
  {
   "cell_type": "code",
   "execution_count": 25,
   "metadata": {},
   "outputs": [],
   "source": [
    "# n_sample = 5000 # hyper-parameter # 5000 means 50 for each category\n",
    "# n_continuous = categorical_features.shape[1]\n",
    "# rank_sum = np.zeros(n_continuous)\n",
    "# for i in range(10):\n",
    "#     # shuffle\n",
    "#     df = np.concatenate((categorical_features, train_label), axis = 1)\n",
    "#     np.random.shuffle(df)\n",
    "#     df = df[0:n_sample, :]\n",
    "\n",
    "#     # chi2 test\n",
    "#     _, p_value_of_1_Fold, _ = chi2_test(df[:, 0:df.shape[1]-1], df[:, df.shape[1]-1])\n",
    "\n",
    "#     # add rank\n",
    "#     p_value_of_1_Fold = np.array(p_value_of_1_Fold)\n",
    "#     serial_number = np.arange(n_continuous)\n",
    "#     p_value_of_1_Fold = np.concatenate((serial_number.reshape(n_continuous,1), p_value_of_1_Fold.reshape(n_continuous,1)), axis = 1)\n",
    "#     ind = np.argsort(p_value_of_1_Fold[:,1])\n",
    "#     p_value_of_1_Fold = p_value_of_1_Fold[ind]\n",
    "#     rank = np.arange(n_continuous).reshape(n_continuous,1) + 1\n",
    "#     p_value_of_1_Fold = np.concatenate((p_value_of_1_Fold, rank), axis = 1)\n",
    "#     ind = np.argsort(p_value_of_1_Fold[:,0])\n",
    "#     p_value_of_1_Fold = p_value_of_1_Fold[ind]\n",
    "#     rank_sum = rank_sum + p_value_of_1_Fold[:,2]\n",
    "\n",
    "# sorted_rank_sum = np.sort(rank_sum)\n",
    "# plt.plot(sorted_rank_sum)\n",
    "# plt.show()"
   ]
  },
  {
   "attachments": {},
   "cell_type": "markdown",
   "metadata": {},
   "source": [
    "### mutual information"
   ]
  },
  {
   "cell_type": "code",
   "execution_count": 26,
   "metadata": {},
   "outputs": [
    {
     "data": {
      "image/png": "[encoded data removed]",
      "text/plain": [
       "<Figure size 432x288 with 1 Axes>"
      ]
     },
     "metadata": {
      "needs_background": "light"
     },
     "output_type": "display_data"
    },
    {
     "ename": "KeyboardInterrupt",
     "evalue": "",
     "output_type": "error",
     "traceback": [
      "\u001b[1;31m---------------------------------------------------------------------------\u001b[0m",
      "\u001b[1;31mKeyboardInterrupt\u001b[0m                         Traceback (most recent call last)",
      "\u001b[1;32md:\\Public_repository\\ml_2022_f\\lab\\lab5\\main.ipynb Cell 49\u001b[0m in \u001b[0;36m<cell line: 12>\u001b[1;34m()\u001b[0m\n\u001b[0;32m     <a href='vscode-notebook-cell:/d%3A/Public_repository/ml_2022_f/lab/lab5/main.ipynb#X66sZmlsZQ%3D%3D?line=9'>10</a>\u001b[0m \u001b[39m# continuous feature\u001b[39;00m\n\u001b[0;32m     <a href='vscode-notebook-cell:/d%3A/Public_repository/ml_2022_f/lab/lab5/main.ipynb#X66sZmlsZQ%3D%3D?line=10'>11</a>\u001b[0m n_loop \u001b[39m=\u001b[39m \u001b[39m100\u001b[39m\n\u001b[1;32m---> <a href='vscode-notebook-cell:/d%3A/Public_repository/ml_2022_f/lab/lab5/main.ipynb#X66sZmlsZQ%3D%3D?line=11'>12</a>\u001b[0m I_mutual_continuous_average \u001b[39m=\u001b[39m run_many_times_for_continuous_features_to_calculate_I_mutual(X_train_continuous_features,y_train,n_sample_of_train_set,n_loop,n_continuous)\n\u001b[0;32m     <a href='vscode-notebook-cell:/d%3A/Public_repository/ml_2022_f/lab/lab5/main.ipynb#X66sZmlsZQ%3D%3D?line=12'>13</a>\u001b[0m plt\u001b[39m.\u001b[39mplot(\u001b[39m-\u001b[39mnp\u001b[39m.\u001b[39msort(\u001b[39m-\u001b[39mI_mutual_continuous_average))\n\u001b[0;32m     <a href='vscode-notebook-cell:/d%3A/Public_repository/ml_2022_f/lab/lab5/main.ipynb#X66sZmlsZQ%3D%3D?line=13'>14</a>\u001b[0m plt\u001b[39m.\u001b[39mxlabel(\u001b[39m'\u001b[39m\u001b[39mcontinuous feature\u001b[39m\u001b[39m'\u001b[39m)\n",
      "\u001b[1;32md:\\Public_repository\\ml_2022_f\\lab\\lab5\\main.ipynb Cell 49\u001b[0m in \u001b[0;36mrun_many_times_for_continuous_features_to_calculate_I_mutual\u001b[1;34m(X_train_continuous_features, y_train, n_sample, n_loop, n_continuous)\u001b[0m\n\u001b[0;32m      <a href='vscode-notebook-cell:/d%3A/Public_repository/ml_2022_f/lab/lab5/main.ipynb#X66sZmlsZQ%3D%3D?line=6'>7</a>\u001b[0m     df \u001b[39m=\u001b[39m df[\u001b[39m0\u001b[39m:n_sample, :]\n\u001b[0;32m      <a href='vscode-notebook-cell:/d%3A/Public_repository/ml_2022_f/lab/lab5/main.ipynb#X66sZmlsZQ%3D%3D?line=7'>8</a>\u001b[0m     discrete_vars \u001b[39m=\u001b[39m np\u001b[39m.\u001b[39mzeros((n_continuous,), dtype\u001b[39m=\u001b[39m\u001b[39mbool\u001b[39m)\n\u001b[1;32m----> <a href='vscode-notebook-cell:/d%3A/Public_repository/ml_2022_f/lab/lab5/main.ipynb#X66sZmlsZQ%3D%3D?line=8'>9</a>\u001b[0m     I_mutual \u001b[39m=\u001b[39m mutual_info_classif(df[:,\u001b[39m0\u001b[39;49m:n_continuous], df[:,n_continuous], discrete_features \u001b[39m=\u001b[39;49m discrete_vars)\n\u001b[0;32m     <a href='vscode-notebook-cell:/d%3A/Public_repository/ml_2022_f/lab/lab5/main.ipynb#X66sZmlsZQ%3D%3D?line=9'>10</a>\u001b[0m     I_mutual_sum \u001b[39m=\u001b[39m I_mutual_sum \u001b[39m+\u001b[39m I_mutual\n\u001b[0;32m     <a href='vscode-notebook-cell:/d%3A/Public_repository/ml_2022_f/lab/lab5/main.ipynb#X66sZmlsZQ%3D%3D?line=10'>11</a>\u001b[0m I_mutual_average \u001b[39m=\u001b[39m I_mutual_sum \u001b[39m/\u001b[39m n_loop\n",
      "File \u001b[1;32md:\\Public\\20220221_Anaconda_Install\\lib\\site-packages\\sklearn\\feature_selection\\_mutual_info.py:468\u001b[0m, in \u001b[0;36mmutual_info_classif\u001b[1;34m(X, y, discrete_features, n_neighbors, copy, random_state)\u001b[0m\n\u001b[0;32m    394\u001b[0m \u001b[39m\u001b[39m\u001b[39m\"\"\"Estimate mutual information for a discrete target variable.\u001b[39;00m\n\u001b[0;32m    395\u001b[0m \n\u001b[0;32m    396\u001b[0m \u001b[39mMutual information (MI) [1]_ between two random variables is a non-negative\u001b[39;00m\n\u001b[1;32m   (...)\u001b[0m\n\u001b[0;32m    465\u001b[0m \u001b[39m       of a Random Vector:, Probl. Peredachi Inf., 23:2 (1987), 9-16\u001b[39;00m\n\u001b[0;32m    466\u001b[0m \u001b[39m\"\"\"\u001b[39;00m\n\u001b[0;32m    467\u001b[0m check_classification_targets(y)\n\u001b[1;32m--> 468\u001b[0m \u001b[39mreturn\u001b[39;00m _estimate_mi(X, y, discrete_features, \u001b[39mTrue\u001b[39;49;00m, n_neighbors, copy, random_state)\n",
      "File \u001b[1;32md:\\Public\\20220221_Anaconda_Install\\lib\\site-packages\\sklearn\\feature_selection\\_mutual_info.py:304\u001b[0m, in \u001b[0;36m_estimate_mi\u001b[1;34m(X, y, discrete_features, discrete_target, n_neighbors, copy, random_state)\u001b[0m\n\u001b[0;32m    297\u001b[0m     y \u001b[39m=\u001b[39m scale(y, with_mean\u001b[39m=\u001b[39m\u001b[39mFalse\u001b[39;00m)\n\u001b[0;32m    298\u001b[0m     y \u001b[39m+\u001b[39m\u001b[39m=\u001b[39m (\n\u001b[0;32m    299\u001b[0m         \u001b[39m1e-10\u001b[39m\n\u001b[0;32m    300\u001b[0m         \u001b[39m*\u001b[39m np\u001b[39m.\u001b[39mmaximum(\u001b[39m1\u001b[39m, np\u001b[39m.\u001b[39mmean(np\u001b[39m.\u001b[39mabs(y)))\n\u001b[0;32m    301\u001b[0m         \u001b[39m*\u001b[39m rng\u001b[39m.\u001b[39mstandard_normal(size\u001b[39m=\u001b[39mn_samples)\n\u001b[0;32m    302\u001b[0m     )\n\u001b[1;32m--> 304\u001b[0m mi \u001b[39m=\u001b[39m [\n\u001b[0;32m    305\u001b[0m     _compute_mi(x, y, discrete_feature, discrete_target, n_neighbors)\n\u001b[0;32m    306\u001b[0m     \u001b[39mfor\u001b[39;00m x, discrete_feature \u001b[39min\u001b[39;00m \u001b[39mzip\u001b[39m(_iterate_columns(X), discrete_mask)\n\u001b[0;32m    307\u001b[0m ]\n\u001b[0;32m    309\u001b[0m \u001b[39mreturn\u001b[39;00m np\u001b[39m.\u001b[39marray(mi)\n",
      "File \u001b[1;32md:\\Public\\20220221_Anaconda_Install\\lib\\site-packages\\sklearn\\feature_selection\\_mutual_info.py:305\u001b[0m, in \u001b[0;36m<listcomp>\u001b[1;34m(.0)\u001b[0m\n\u001b[0;32m    297\u001b[0m     y \u001b[39m=\u001b[39m scale(y, with_mean\u001b[39m=\u001b[39m\u001b[39mFalse\u001b[39;00m)\n\u001b[0;32m    298\u001b[0m     y \u001b[39m+\u001b[39m\u001b[39m=\u001b[39m (\n\u001b[0;32m    299\u001b[0m         \u001b[39m1e-10\u001b[39m\n\u001b[0;32m    300\u001b[0m         \u001b[39m*\u001b[39m np\u001b[39m.\u001b[39mmaximum(\u001b[39m1\u001b[39m, np\u001b[39m.\u001b[39mmean(np\u001b[39m.\u001b[39mabs(y)))\n\u001b[0;32m    301\u001b[0m         \u001b[39m*\u001b[39m rng\u001b[39m.\u001b[39mstandard_normal(size\u001b[39m=\u001b[39mn_samples)\n\u001b[0;32m    302\u001b[0m     )\n\u001b[0;32m    304\u001b[0m mi \u001b[39m=\u001b[39m [\n\u001b[1;32m--> 305\u001b[0m     _compute_mi(x, y, discrete_feature, discrete_target, n_neighbors)\n\u001b[0;32m    306\u001b[0m     \u001b[39mfor\u001b[39;00m x, discrete_feature \u001b[39min\u001b[39;00m \u001b[39mzip\u001b[39m(_iterate_columns(X), discrete_mask)\n\u001b[0;32m    307\u001b[0m ]\n\u001b[0;32m    309\u001b[0m \u001b[39mreturn\u001b[39;00m np\u001b[39m.\u001b[39marray(mi)\n",
      "File \u001b[1;32md:\\Public\\20220221_Anaconda_Install\\lib\\site-packages\\sklearn\\feature_selection\\_mutual_info.py:163\u001b[0m, in \u001b[0;36m_compute_mi\u001b[1;34m(x, y, x_discrete, y_discrete, n_neighbors)\u001b[0m\n\u001b[0;32m    161\u001b[0m     \u001b[39mreturn\u001b[39;00m _compute_mi_cd(y, x, n_neighbors)\n\u001b[0;32m    162\u001b[0m \u001b[39melif\u001b[39;00m \u001b[39mnot\u001b[39;00m x_discrete \u001b[39mand\u001b[39;00m y_discrete:\n\u001b[1;32m--> 163\u001b[0m     \u001b[39mreturn\u001b[39;00m _compute_mi_cd(x, y, n_neighbors)\n\u001b[0;32m    164\u001b[0m \u001b[39melse\u001b[39;00m:\n\u001b[0;32m    165\u001b[0m     \u001b[39mreturn\u001b[39;00m _compute_mi_cc(x, y, n_neighbors)\n",
      "File \u001b[1;32md:\\Public\\20220221_Anaconda_Install\\lib\\site-packages\\sklearn\\feature_selection\\_mutual_info.py:146\u001b[0m, in \u001b[0;36m_compute_mi_cd\u001b[1;34m(c, d, n_neighbors)\u001b[0m\n\u001b[0;32m    139\u001b[0m m_all \u001b[39m=\u001b[39m kd\u001b[39m.\u001b[39mquery_radius(c, radius, count_only\u001b[39m=\u001b[39m\u001b[39mTrue\u001b[39;00m, return_distance\u001b[39m=\u001b[39m\u001b[39mFalse\u001b[39;00m)\n\u001b[0;32m    140\u001b[0m m_all \u001b[39m=\u001b[39m np\u001b[39m.\u001b[39marray(m_all)\n\u001b[0;32m    142\u001b[0m mi \u001b[39m=\u001b[39m (\n\u001b[0;32m    143\u001b[0m     digamma(n_samples)\n\u001b[0;32m    144\u001b[0m     \u001b[39m+\u001b[39m np\u001b[39m.\u001b[39mmean(digamma(k_all))\n\u001b[0;32m    145\u001b[0m     \u001b[39m-\u001b[39m np\u001b[39m.\u001b[39mmean(digamma(label_counts))\n\u001b[1;32m--> 146\u001b[0m     \u001b[39m-\u001b[39m np\u001b[39m.\u001b[39mmean(digamma(m_all))\n\u001b[0;32m    147\u001b[0m )\n\u001b[0;32m    149\u001b[0m \u001b[39mreturn\u001b[39;00m \u001b[39mmax\u001b[39m(\u001b[39m0\u001b[39m, mi)\n",
      "\u001b[1;31mKeyboardInterrupt\u001b[0m: "
     ]
    }
   ],
   "source": [
    "# categorical feature\n",
    "discrete_vars_categorical = np.ones((n_categorical,), dtype=bool)\n",
    "I_mutual_categorical = mutual_info_classif(X_train_categorical_features, y_train.reshape(y_train.shape[0],), discrete_features = discrete_vars_categorical)\n",
    "plt.plot(-np.sort(-I_mutual_categorical))\n",
    "plt.xlabel('categorical feature')\n",
    "plt.ylabel('mutual information')\n",
    "plt.show()\n",
    "I_mutual_categorical = concatenate_two_1D_array(original_rank_categorical,I_mutual_categorical)\n",
    "\n",
    "# continuous feature\n",
    "n_loop = 100\n",
    "I_mutual_continuous_average = run_many_times_for_continuous_features_to_calculate_I_mutual(X_train_continuous_features,y_train,n_sample_of_train_set,n_loop,n_continuous)\n",
    "plt.plot(-np.sort(-I_mutual_continuous_average))\n",
    "plt.xlabel('continuous feature')\n",
    "plt.ylabel('mutual information')\n",
    "plt.show()\n",
    "I_mutual_continuous_average = concatenate_two_1D_array(original_rank_continuous,I_mutual_continuous_average)\n",
    "\n",
    "# get index of selected feature\n",
    "I_mutual = np.concatenate((I_mutual_categorical,I_mutual_continuous_average))\n",
    "I_mutual = sort_by_row_in_2D_array_descending(I_mutual,1)\n",
    "n_choose_I_mutual = 10 # a hyper-parameter\n",
    "selected_feature_I_mutual = I_mutual[0:n_choose_I_mutual,0]\n",
    "selected_feature_I_mutual = selected_feature_I_mutual.astype(int)\n",
    "selected_feature_I_mutual = np.sort(selected_feature_I_mutual)\n",
    "\n",
    "# union1d\n",
    "selected_feature = np.union1d(selected_feature_RELIEF,selected_feature_I_mutual)"
   ]
  },
  {
   "attachments": {},
   "cell_type": "markdown",
   "metadata": {},
   "source": [
    "## wrapper method"
   ]
  },
  {
   "cell_type": "code",
   "execution_count": null,
   "metadata": {},
   "outputs": [],
   "source": [
    "# from sklearn.linear_model import LogisticRegression\n",
    "# from sklearn.feature_selection import RFE\n",
    "\n",
    "# # fit\n",
    "# clf_LR = LogisticRegression(multi_class=\"multinomial\", solver='lbfgs', max_iter=10 ** 3)\n",
    "# selector = RFE(estimator = clf_LR, step = 1, n_features_to_select = 10)\n",
    "# selector.fit(X_train_RELIEF_I_mutual, y_train)\n",
    "# X_train_rfe = selector.transform(X_train_RELIEF_I_mutual)\n",
    "# X_validation_rfe = selector.transform(X_val_RELIEF_I_mutual)\n",
    "\n",
    "# # test the transformed data\n",
    "\n",
    "# # fit\n",
    "# clf_LR.fit(X_train_rfe, y_train)\n",
    "\n",
    "# # coef and intercept\n",
    "# a = clf_LR.coef_\n",
    "# b = clf_LR.intercept_\n",
    "\n",
    "# # accuracy of train set\n",
    "# y_train_pred = clf_LR.predict(X_train_rfe)\n",
    "# print(\"accuracy of train set: {}\".format(accuracy(y_train,y_train_pred)))\n",
    "\n",
    "# # accuracy of validation set\n",
    "# y_validation_pred = clf_LR.predict(X_validation_rfe)\n",
    "# print(\"accuracy of validation set: {}\".format(accuracy(y_val,y_validation_pred)))"
   ]
  },
  {
   "attachments": {},
   "cell_type": "markdown",
   "metadata": {},
   "source": [
    "## embed method"
   ]
  },
  {
   "attachments": {},
   "cell_type": "markdown",
   "metadata": {},
   "source": [
    "### LASSO"
   ]
  },
  {
   "cell_type": "code",
   "execution_count": null,
   "metadata": {},
   "outputs": [],
   "source": [
    "# from sklearn.linear_model import Lasso\n",
    "# from sklearn.multiclass import OneVsRestClassifier\n",
    "# lasso = Lasso(alpha = 0.1)\n",
    "# clf = OneVsRestClassifier(lasso)\n",
    "# clf.fit(X_train_RELIEF_I_mutual, y_train)\n",
    "\n",
    "# # accuracy of train set\n",
    "# y_train_pred = clf.predict(X_train_RELIEF_I_mutual)\n",
    "# print(\"accuracy of train set: {}\".format(accuracy(y_train,y_train_pred)))\n",
    "\n",
    "# # accuracy of validation set\n",
    "# y_val_pred = clf.predict(X_val_RELIEF_I_mutual)\n",
    "# print(\"accuracy of validation set: {}\".format(accuracy(y_val,y_val_pred)))"
   ]
  },
  {
   "attachments": {},
   "cell_type": "markdown",
   "metadata": {},
   "source": [
    "### Decision Tree"
   ]
  },
  {
   "cell_type": "code",
   "execution_count": null,
   "metadata": {},
   "outputs": [],
   "source": [
    "from sklearn.tree import DecisionTreeClassifier\n",
    "from sklearn.model_selection import train_test_split,GridSearchCV,cross_val_score\n",
    "from sklearn.metrics import accuracy_score"
   ]
  },
  {
   "cell_type": "code",
   "execution_count": null,
   "metadata": {},
   "outputs": [],
   "source": [
    "# choose 30 features\n",
    "X_train_RELIEF_I_mutual = X_train[:,selected_feature]\n",
    "X_test_RELIEF_I_mutual = X_test[:,selected_feature]"
   ]
  },
  {
   "cell_type": "code",
   "execution_count": null,
   "metadata": {},
   "outputs": [],
   "source": [
    "DT = DecisionTreeClassifier(random_state = 66)\n",
    "score = cross_val_score(DT,X_train_RELIEF_I_mutual,y_train,cv=4).mean()\n",
    "print('基尼系数得分: %.4f'%score)\n",
    "DT = DecisionTreeClassifier(criterion = 'entropy',random_state = 66)\n",
    "score = cross_val_score(DT,X_train_RELIEF_I_mutual,y_train,cv=4).mean()\n",
    "print('熵得分: %.4f'%score)"
   ]
  },
  {
   "attachments": {},
   "cell_type": "markdown",
   "metadata": {},
   "source": [
    "So I choose gini index."
   ]
  },
  {
   "cell_type": "code",
   "execution_count": null,
   "metadata": {},
   "outputs": [],
   "source": [
    "###在大范围内画出max_depth这个参数变化曲线\n",
    "ScoreAll = []\n",
    "for i in range(10,100,10):\n",
    "    DT = DecisionTreeClassifier(max_depth = i,random_state = 66)\n",
    "    score = cross_val_score(DT,X_train_RELIEF_I_mutual,y_train,cv=4).mean()\n",
    "    ScoreAll.append([i,score])\n",
    "ScoreAll = np.array(ScoreAll)\n",
    "\n",
    "max_score = np.where(ScoreAll==np.max(ScoreAll[:,1]))[0][0]\n",
    "print(\"最优参数以及最高得分:\",ScoreAll[max_score])  \n",
    "plt.figure(figsize=[20,5])\n",
    "plt.plot(ScoreAll[:,0],ScoreAll[:,1])\n",
    "plt.show()"
   ]
  },
  {
   "cell_type": "code",
   "execution_count": null,
   "metadata": {},
   "outputs": [],
   "source": [
    "###在小范围内画出max_depth这个参数变化曲线\n",
    "ScoreAll = []\n",
    "for i in range(20,40,1):\n",
    "    DT = DecisionTreeClassifier(max_depth = i,random_state = 66)\n",
    "    score = cross_val_score(DT,X_train_RELIEF_I_mutual,y_train,cv=4).mean()\n",
    "    ScoreAll.append([i,score])\n",
    "ScoreAll = np.array(ScoreAll)\n",
    "\n",
    "max_score = np.where(ScoreAll==np.max(ScoreAll[:,1]))[0][0]\n",
    "print(\"最优参数以及最高得分:\",ScoreAll[max_score])  \n",
    "plt.figure(figsize=[20,5])\n",
    "plt.plot(ScoreAll[:,0],ScoreAll[:,1])\n",
    "plt.show()"
   ]
  },
  {
   "attachments": {},
   "cell_type": "markdown",
   "metadata": {},
   "source": [
    "暂定31"
   ]
  },
  {
   "cell_type": "code",
   "execution_count": null,
   "metadata": {},
   "outputs": [],
   "source": [
    "#单独看看min_samples_split的变化趋势\n",
    "ScoreAll = []\n",
    "for i in range(2,30):\n",
    "    DT = DecisionTreeClassifier(max_depth = 31,min_samples_split = i,random_state = 66)\n",
    "    score = cross_val_score(DT,X_train_RELIEF_I_mutual,y_train,cv=4).mean()\n",
    "    ScoreAll.append([i,score])\n",
    "ScoreAll = np.array(ScoreAll)\n",
    "\n",
    "max_score = np.where(ScoreAll==np.max(ScoreAll[:,1]))[0][0] ##这句话看似很长的，其实就是找出最高得分对应的索引\n",
    "print(\"最优参数以及最高得分:\",ScoreAll[max_score])  \n",
    "# print(ScoreAll[,0])\n",
    "plt.figure(figsize=[20,5])\n",
    "plt.plot(ScoreAll[:,0],ScoreAll[:,1])\n",
    "plt.show()"
   ]
  },
  {
   "attachments": {},
   "cell_type": "markdown",
   "metadata": {},
   "source": [
    "暂定6"
   ]
  },
  {
   "cell_type": "code",
   "execution_count": null,
   "metadata": {},
   "outputs": [],
   "source": [
    "###调min_samples_leaf这个参数\n",
    "from sklearn.model_selection import cross_val_score\n",
    "import matplotlib.pyplot as plt\n",
    "import numpy as np\n",
    "\n",
    "ScoreAll = []\n",
    "for i in range(1,30):\n",
    "    DT = DecisionTreeClassifier(min_samples_leaf = i,min_samples_split = 6,max_depth = 31,random_state = 66)\n",
    "    score = cross_val_score(DT,X_train_RELIEF_I_mutual,y_train,cv=4).mean()\n",
    "    ScoreAll.append([i,score])\n",
    "ScoreAll = np.array(ScoreAll)\n",
    "\n",
    "max_score = np.where(ScoreAll==np.max(ScoreAll[:,1]))[0][0] ##这句话看似很长的，其实就是找出最高得分对应的索引\n",
    "print(\"最优参数以及最高得分:\",ScoreAll[max_score])  \n",
    "# print(ScoreAll[,0])\n",
    "plt.figure(figsize=[20,5])\n",
    "plt.plot(ScoreAll[:,0],ScoreAll[:,1])\n",
    "plt.show()"
   ]
  },
  {
   "attachments": {},
   "cell_type": "markdown",
   "metadata": {},
   "source": [
    "根据我们前边的一系列操作，我们确定因为max_depth在31附近，min_samples_split在6附近，min_samples_leaf在1附近是最优参数。"
   ]
  },
  {
   "cell_type": "code",
   "execution_count": null,
   "metadata": {},
   "outputs": [],
   "source": [
    "#max_depth、min_samples_leaf和min_samples_split一块儿调整  \n",
    "param_grid = {\n",
    "    'max_depth':np.arange(25, 35),\n",
    "    'min_samples_leaf':np.arange(1, 10),\n",
    "    'min_samples_split':np.arange(1, 10)}\n",
    "\n",
    "rfc = DecisionTreeClassifier(random_state=66)\n",
    "GS = GridSearchCV(rfc,param_grid,cv=4)\n",
    "GS.fit(X_train_RELIEF_I_mutual,y_train)\n",
    "print(GS.best_params_)\n",
    "print(GS.best_score_)"
   ]
  },
  {
   "cell_type": "code",
   "execution_count": null,
   "metadata": {},
   "outputs": [],
   "source": [
    "results = GS.cv_results_\n",
    "my_mean_list = []\n",
    "my_std_list = []\n",
    "my_params_list = []\n",
    "\n",
    "for mean, std, params in zip(results['mean_test_score'], results['std_test_score'], results['params']):\n",
    "    my_mean_list.append(mean)\n",
    "    my_std_list.append(std)\n",
    "    my_params_list.append(params)\n",
    "\n",
    "my_mean_list = np.array(my_mean_list).reshape(len(my_mean_list),1)\n",
    "my_std_list = np.array(my_std_list).reshape(len(my_std_list),1)\n",
    "my_params_list_2 = pd.DataFrame(my_params_list)\n",
    "my_params_list_2 = my_params_list_2.to_numpy()\n",
    "my_GS_result = np.concatenate((my_mean_list,my_std_list),axis=1)\n",
    "my_GS_result = np.concatenate((my_GS_result,my_params_list_2),axis=1)\n",
    "save_ndarray_to_csv(my_GS_result,'GS_result')"
   ]
  },
  {
   "attachments": {},
   "cell_type": "markdown",
   "metadata": {},
   "source": [
    "综合考虑mean和std，选择31、1、6"
   ]
  },
  {
   "cell_type": "code",
   "execution_count": null,
   "metadata": {},
   "outputs": [],
   "source": [
    "DT = DecisionTreeClassifier(min_samples_leaf = 1,min_samples_split = 6,max_depth = 31,random_state = 66)\n",
    "score = cross_val_score(DT,X_train_RELIEF_I_mutual,y_train,cv=4).mean()\n",
    "print(score)"
   ]
  },
  {
   "cell_type": "code",
   "execution_count": null,
   "metadata": {},
   "outputs": [],
   "source": [
    "X_cv = X_train_RELIEF_I_mutual\n",
    "y_cv = y_train\n",
    "from sklearn.model_selection import StratifiedKFold\n",
    "k = 4 # a hyper-parameter\n",
    "stratified_kf = StratifiedKFold(n_splits = k)\n",
    "importance_DT = np.zeros((len(selected_feature),))\n",
    "y_train_acc_sum = 0\n",
    "y_val_acc_sum = 0\n",
    "for train_index, val_index in stratified_kf.split(X_cv, y_cv):\n",
    "    \n",
    "    # split\n",
    "    X_train_cv, X_val_cv = X_cv[train_index], X_cv[val_index]\n",
    "    y_train_cv, y_val_cv = y_cv[train_index], y_cv[val_index]\n",
    "\n",
    "    # fit\n",
    "    DT = DecisionTreeClassifier(min_samples_leaf = 1,min_samples_split = 6,max_depth = 31,random_state = 66)\n",
    "    DT.fit(X_train_cv, y_train_cv)\n",
    "    # train\n",
    "    y_train_pred = DT.predict(X_train_cv)\n",
    "    y_train_acc = accuracy(y_train_cv,y_train_pred)\n",
    "    print(\"accuracy of train set: {}\".format(y_train_acc))\n",
    "    # val\n",
    "    y_val_pred = DT.predict(X_val_cv)\n",
    "    y_val_acc = accuracy(y_val_cv,y_val_pred)\n",
    "    print(\"accuracy of validation set: {}\".format(y_val_acc))\n",
    "    # importance\n",
    "    importance_DT += DT.feature_importances_\n",
    "    # sum\n",
    "    y_train_acc_sum += y_train_acc\n",
    "    y_val_acc_sum += y_val_acc\n",
    "\n",
    "# print\n",
    "y_train_acc_average = y_train_acc_sum / 4\n",
    "print(\"average accuracy of train set: {}\".format(y_train_acc_average))\n",
    "y_val_acc_average = y_val_acc_sum / 4\n",
    "print(\"average accuracy of val set: {}\".format(y_val_acc_average))\n",
    "\n",
    "# plot\n",
    "plt.plot(-np.sort(-importance_DT))\n",
    "plt.xlabel('feature')\n",
    "plt.ylabel('importance of decision tree')\n",
    "plt.show()"
   ]
  },
  {
   "cell_type": "code",
   "execution_count": null,
   "metadata": {},
   "outputs": [],
   "source": [
    "# feature selection\n",
    "importance_DT = concatenate_two_1D_array(np.arange(len(importance_DT)),importance_DT)\n",
    "importance_DT = sort_by_row_in_2D_array_descending(importance_DT,1)\n",
    "n_choose = 28\n",
    "temp = importance_DT[0:n_choose,0]\n",
    "temp = temp.astype(int)\n",
    "selected_feature_v2 = selected_feature[temp]\n",
    "selected_feature_v2 = np.sort(selected_feature_v2)"
   ]
  },
  {
   "attachments": {},
   "cell_type": "markdown",
   "metadata": {},
   "source": [
    "测试集准确率（严格来说，我做完这一点之后就不可以进行任何操作，当然也不可以进行下一轮特征选择）"
   ]
  },
  {
   "cell_type": "code",
   "execution_count": null,
   "metadata": {},
   "outputs": [],
   "source": [
    "DT = DecisionTreeClassifier(min_samples_leaf = 1,min_samples_split = 6,max_depth = 31,random_state = 66)\n",
    "DT.fit(X_train_RELIEF_I_mutual, y_train)\n",
    "y_test_pred = DT.predict(X_test_RELIEF_I_mutual)\n",
    "accuracy(y_test,y_test_pred)"
   ]
  },
  {
   "attachments": {},
   "cell_type": "markdown",
   "metadata": {},
   "source": [
    "预测test_label"
   ]
  },
  {
   "cell_type": "code",
   "execution_count": null,
   "metadata": {},
   "outputs": [],
   "source": [
    "y_test_feature_pred = DT.predict(test_feature[:,selected_feature])\n",
    "save_ndarray_to_csv(y_test_feature_pred,'test_label')"
   ]
  },
  {
   "attachments": {},
   "cell_type": "markdown",
   "metadata": {},
   "source": [
    "### Decision Tree_round 2"
   ]
  },
  {
   "cell_type": "code",
   "execution_count": null,
   "metadata": {},
   "outputs": [],
   "source": [
    "# choose 16 features\n",
    "X_train_RELIEF_I_mutual_DT = X_train[:,selected_feature_v2]\n",
    "X_test_RELIEF_I_mutual_DT = X_test[:,selected_feature_v2]"
   ]
  },
  {
   "cell_type": "code",
   "execution_count": null,
   "metadata": {},
   "outputs": [],
   "source": [
    "DT = DecisionTreeClassifier(random_state = 66)\n",
    "score = cross_val_score(DT,X_train_RELIEF_I_mutual_DT,y_train,cv=4).mean()\n",
    "print('基尼系数得分: %.4f'%score)\n",
    "DT = DecisionTreeClassifier(criterion = 'entropy',random_state = 66)\n",
    "score = cross_val_score(DT,X_train_RELIEF_I_mutual_DT,y_train,cv=4).mean()\n",
    "print('熵得分: %.4f'%score)"
   ]
  },
  {
   "attachments": {},
   "cell_type": "markdown",
   "metadata": {},
   "source": [
    "So I choose gini index."
   ]
  },
  {
   "cell_type": "code",
   "execution_count": null,
   "metadata": {},
   "outputs": [],
   "source": [
    "###在大范围内画出max_depth这个参数变化曲线\n",
    "ScoreAll = []\n",
    "for i in range(10,100,10):\n",
    "    DT = DecisionTreeClassifier(max_depth = i,random_state = 66)\n",
    "    score = cross_val_score(DT,X_train_RELIEF_I_mutual_DT,y_train,cv=4).mean()\n",
    "    ScoreAll.append([i,score])\n",
    "ScoreAll = np.array(ScoreAll)\n",
    "\n",
    "max_score = np.where(ScoreAll==np.max(ScoreAll[:,1]))[0][0]\n",
    "print(\"最优参数以及最高得分:\",ScoreAll[max_score])  \n",
    "plt.figure(figsize=[20,5])\n",
    "plt.plot(ScoreAll[:,0],ScoreAll[:,1])\n",
    "plt.show()"
   ]
  },
  {
   "cell_type": "code",
   "execution_count": null,
   "metadata": {},
   "outputs": [],
   "source": [
    "###在小范围内画出max_depth这个参数变化曲线\n",
    "ScoreAll = []\n",
    "for i in range(20,40,1):\n",
    "    DT = DecisionTreeClassifier(max_depth = i,random_state = 66)\n",
    "    score = cross_val_score(DT,X_train_RELIEF_I_mutual_DT,y_train,cv=4).mean()\n",
    "    ScoreAll.append([i,score])\n",
    "ScoreAll = np.array(ScoreAll)\n",
    "\n",
    "max_score = np.where(ScoreAll==np.max(ScoreAll[:,1]))[0][0]\n",
    "print(\"最优参数以及最高得分:\",ScoreAll[max_score])  \n",
    "plt.figure(figsize=[20,5])\n",
    "plt.plot(ScoreAll[:,0],ScoreAll[:,1])\n",
    "plt.show()"
   ]
  },
  {
   "attachments": {},
   "cell_type": "markdown",
   "metadata": {},
   "source": [
    "暂定31"
   ]
  },
  {
   "cell_type": "code",
   "execution_count": null,
   "metadata": {},
   "outputs": [],
   "source": [
    "#单独看看min_samples_split的变化趋势\n",
    "ScoreAll = []\n",
    "for i in range(2,30):\n",
    "    DT = DecisionTreeClassifier(max_depth = 31,min_samples_split = i,random_state = 66)\n",
    "    score = cross_val_score(DT,X_train_RELIEF_I_mutual_DT,y_train,cv=4).mean()\n",
    "    ScoreAll.append([i,score])\n",
    "ScoreAll = np.array(ScoreAll)\n",
    "\n",
    "max_score = np.where(ScoreAll==np.max(ScoreAll[:,1]))[0][0] ##这句话看似很长的，其实就是找出最高得分对应的索引\n",
    "print(\"最优参数以及最高得分:\",ScoreAll[max_score])  \n",
    "# print(ScoreAll[,0])\n",
    "plt.figure(figsize=[20,5])\n",
    "plt.plot(ScoreAll[:,0],ScoreAll[:,1])\n",
    "plt.show()"
   ]
  },
  {
   "attachments": {},
   "cell_type": "markdown",
   "metadata": {},
   "source": [
    "暂定8"
   ]
  },
  {
   "cell_type": "code",
   "execution_count": null,
   "metadata": {},
   "outputs": [],
   "source": [
    "###调min_samples_leaf这个参数\n",
    "from sklearn.model_selection import cross_val_score\n",
    "import matplotlib.pyplot as plt\n",
    "import numpy as np\n",
    "\n",
    "ScoreAll = []\n",
    "for i in range(1,30):\n",
    "    DT = DecisionTreeClassifier(min_samples_leaf = i,min_samples_split = 8,max_depth = 31,random_state = 66)\n",
    "    score = cross_val_score(DT,X_train_RELIEF_I_mutual_DT,y_train,cv=4).mean()\n",
    "    ScoreAll.append([i,score])\n",
    "ScoreAll = np.array(ScoreAll)\n",
    "\n",
    "max_score = np.where(ScoreAll==np.max(ScoreAll[:,1]))[0][0] ##这句话看似很长的，其实就是找出最高得分对应的索引\n",
    "print(\"最优参数以及最高得分:\",ScoreAll[max_score])  \n",
    "# print(ScoreAll[,0])\n",
    "plt.figure(figsize=[20,5])\n",
    "plt.plot(ScoreAll[:,0],ScoreAll[:,1])\n",
    "plt.show()"
   ]
  },
  {
   "attachments": {},
   "cell_type": "markdown",
   "metadata": {},
   "source": [
    "根据我们前边的一系列操作，我们确定因为max_depth在46附近，min_samples_split在8附近，min_samples_leaf在1是最优参数。"
   ]
  },
  {
   "cell_type": "code",
   "execution_count": null,
   "metadata": {},
   "outputs": [],
   "source": [
    "#max_depth、min_samples_leaf和min_samples_split一块儿调整  \n",
    "param_grid = {\n",
    "    'max_depth':np.arange(27, 33),\n",
    "    'min_samples_leaf':np.arange(1, 5),\n",
    "    'min_samples_split':np.arange(5, 10)}\n",
    "\n",
    "rfc = DecisionTreeClassifier(random_state=66)\n",
    "GS = GridSearchCV(rfc,param_grid,cv=4)\n",
    "GS.fit(X_train_RELIEF_I_mutual_DT,y_train)\n",
    "print(GS.best_params_)\n",
    "print(GS.best_score_)"
   ]
  },
  {
   "attachments": {},
   "cell_type": "markdown",
   "metadata": {},
   "source": [
    "综合考虑mean和std，选择31、1、8"
   ]
  },
  {
   "cell_type": "code",
   "execution_count": null,
   "metadata": {},
   "outputs": [],
   "source": [
    "results = GS.cv_results_\n",
    "my_mean_list = []\n",
    "my_std_list = []\n",
    "my_params_list = []\n",
    "\n",
    "for mean, std, params in zip(results['mean_test_score'], results['std_test_score'], results['params']):\n",
    "    my_mean_list.append(mean)\n",
    "    my_std_list.append(std)\n",
    "    my_params_list.append(params)\n",
    "\n",
    "my_mean_list = np.array(my_mean_list).reshape(len(my_mean_list),1)\n",
    "my_std_list = np.array(my_std_list).reshape(len(my_std_list),1)\n",
    "my_params_list_2 = pd.DataFrame(my_params_list)\n",
    "my_params_list_2 = my_params_list_2.to_numpy()\n",
    "my_GS_result = np.concatenate((my_mean_list,my_std_list),axis=1)\n",
    "my_GS_result = np.concatenate((my_GS_result,my_params_list_2),axis=1)\n",
    "save_ndarray_to_csv(my_GS_result,'GS_result_round2')"
   ]
  },
  {
   "cell_type": "code",
   "execution_count": null,
   "metadata": {},
   "outputs": [],
   "source": [
    "DT = DecisionTreeClassifier(min_samples_leaf = 1,min_samples_split = 8,max_depth = 31,random_state = 66)\n",
    "score = cross_val_score(DT,X_train_RELIEF_I_mutual_DT,y_train,cv=4).mean()\n",
    "print(score)"
   ]
  },
  {
   "cell_type": "code",
   "execution_count": null,
   "metadata": {},
   "outputs": [],
   "source": [
    "X_cv = X_train_RELIEF_I_mutual_DT\n",
    "y_cv = y_train\n",
    "from sklearn.model_selection import StratifiedKFold\n",
    "k = 4 # a hyper-parameter\n",
    "stratified_kf = StratifiedKFold(n_splits = k)\n",
    "importance_DT = np.zeros((len(selected_feature_v2),))\n",
    "y_train_acc_sum = 0\n",
    "y_val_acc_sum = 0\n",
    "for train_index, val_index in stratified_kf.split(X_cv, y_cv):\n",
    "    \n",
    "    # split\n",
    "    X_train_cv, X_val_cv = X_cv[train_index], X_cv[val_index]\n",
    "    y_train_cv, y_val_cv = y_cv[train_index], y_cv[val_index]\n",
    "\n",
    "    # fit\n",
    "    DT = DecisionTreeClassifier(min_samples_leaf = 1,min_samples_split = 8,max_depth = 31,random_state = 66)\n",
    "    DT.fit(X_train_cv, y_train_cv)\n",
    "    # train\n",
    "    y_train_pred = DT.predict(X_train_cv)\n",
    "    y_train_acc = accuracy(y_train_cv,y_train_pred)\n",
    "    print(\"accuracy of train set: {}\".format(y_train_acc))\n",
    "    # val\n",
    "    y_val_pred = DT.predict(X_val_cv)\n",
    "    y_val_acc = accuracy(y_val_cv,y_val_pred)\n",
    "    print(\"accuracy of validation set: {}\".format(y_val_acc))\n",
    "    # importance\n",
    "    importance_DT += DT.feature_importances_\n",
    "    # sum\n",
    "    y_train_acc_sum += y_train_acc\n",
    "    y_val_acc_sum += y_val_acc\n",
    "\n",
    "# print\n",
    "y_train_acc_average = y_train_acc_sum / 4\n",
    "print(\"average accuracy of train set: {}\".format(y_train_acc_average))\n",
    "y_val_acc_average = y_val_acc_sum / 4\n",
    "print(\"average accuracy of val set: {}\".format(y_val_acc_average))\n",
    "\n",
    "# plot\n",
    "plt.plot(-np.sort(-importance_DT))\n",
    "plt.xlabel('feature')\n",
    "plt.ylabel('importance of decision tree')\n",
    "plt.show()"
   ]
  },
  {
   "attachments": {},
   "cell_type": "markdown",
   "metadata": {},
   "source": [
    "测试集准确率"
   ]
  },
  {
   "cell_type": "code",
   "execution_count": null,
   "metadata": {},
   "outputs": [],
   "source": [
    "DT = DecisionTreeClassifier(min_samples_leaf = 1,min_samples_split = 8,max_depth = 31,random_state = 66)\n",
    "DT.fit(X_train_RELIEF_I_mutual_DT, y_train)\n",
    "y_test_pred = DT.predict(X_test_RELIEF_I_mutual_DT)\n",
    "accuracy(y_test,y_test_pred)"
   ]
  },
  {
   "attachments": {},
   "cell_type": "markdown",
   "metadata": {},
   "source": [
    "### Random Forest"
   ]
  },
  {
   "cell_type": "code",
   "execution_count": null,
   "metadata": {},
   "outputs": [],
   "source": [
    "# from sklearn.ensemble import RandomForestClassifier\n",
    "# clf = RandomForestClassifier(n_estimators=3)\n",
    "# clf.fit(X_train_RELIEF_I_mutual_DT, y_train)\n",
    "# importance_RF = clf.feature_importances_\n",
    "\n",
    "# # accuracy of train set\n",
    "# y_train_pred = clf.predict(X_train_RELIEF_I_mutual_DT)\n",
    "# print(\"accuracy of train set: {}\".format(accuracy(y_train,y_train_pred)))\n",
    "\n",
    "# # accuracy of test set\n",
    "# y_test_pred = clf.predict(X_test_RELIEF_I_mutual_DT)\n",
    "# print(\"accuracy of test set: {}\".format(accuracy(y_test,y_test_pred)))"
   ]
  },
  {
   "attachments": {},
   "cell_type": "markdown",
   "metadata": {},
   "source": [
    "# Dimensionality Reduction"
   ]
  },
  {
   "cell_type": "code",
   "execution_count": null,
   "metadata": {},
   "outputs": [],
   "source": [
    "# # try to visualize\n",
    "\n",
    "# # select 2 features randomly\n",
    "# train_feature_test = train_feature[:,[33, 45]]\n",
    "# # plot\n",
    "# plot_2D(train_feature_test, train_label)\n",
    "# plt.xlabel('feature 33') \n",
    "# plt.ylabel('feature 45')\n",
    "# plt.title('try to visualize')\n",
    "\n",
    "# # select 3 features randomly\n",
    "# train_feature_test = train_feature[:,[73, 109, 116]]\n",
    "# # plot\n",
    "# plot_3D(train_feature_test, train_label)"
   ]
  },
  {
   "attachments": {},
   "cell_type": "markdown",
   "metadata": {},
   "source": [
    "## PCA"
   ]
  },
  {
   "cell_type": "code",
   "execution_count": null,
   "metadata": {},
   "outputs": [],
   "source": [
    "# from sklearn.decomposition import PCA\n",
    "# pca = PCA()\n",
    "# pca.fit(X_train_RELIEF)\n",
    "# explained_var = pca.explained_variance_ratio_\n",
    "\n",
    "# # the scree plot\n",
    "# plt.bar(range(1, len(explained_var) + 1), explained_var)\n",
    "# plt.xlabel('Principal Component')\n",
    "# plt.ylabel('Explained Variance Ratio')\n",
    "# plt.show()\n",
    "\n",
    "# # the cumulative plot\n",
    "# cumulative_var = np.cumsum(explained_var)\n",
    "# plt.plot(range(1, len(cumulative_var) + 1), cumulative_var)\n",
    "# plt.xlabel('Number of components')\n",
    "# plt.ylabel('Cumulative explained variance')\n",
    "# plt.show()\n",
    "\n",
    "# # preserve\n",
    "# number_of_PC_preserverd = 10 # a hyper-parameter\n",
    "# X_train_RELIEF_PCA = pca.transform(X_train_RELIEF)\n",
    "# X_train_RELIEF_PCA = X_train_RELIEF_PCA[:,0:number_of_PC_preserverd]\n",
    "# X_val_RELIEF_PCA = pca.transform(X_val_RELIEF)\n",
    "# X_val_RELIEF_PCA = X_val_RELIEF_PCA[:,0:number_of_PC_preserverd]\n",
    "\n",
    "# # plot the first 2 principle components for visualization\n",
    "# plot_2D(X_train_RELIEF_PCA[:,[0,1]], y_train.reshape(len(y_train),1))\n",
    "# plt.xlabel('1st PC') \n",
    "# plt.ylabel('2nd PC')\n",
    "# plt.title('Use PCA to reduce dim to 2')"
   ]
  },
  {
   "attachments": {},
   "cell_type": "markdown",
   "metadata": {},
   "source": [
    "## LDA"
   ]
  },
  {
   "cell_type": "code",
   "execution_count": null,
   "metadata": {},
   "outputs": [],
   "source": [
    "# from sklearn.discriminant_analysis import LinearDiscriminantAnalysis\n",
    "# lda = LinearDiscriminantAnalysis(n_components = 2)\n",
    "# train_feature_LDA = lda.fit_transform(train_feature, train_label.ravel())\n",
    "\n",
    "# # plot n_components = 2\n",
    "# plot_2D(train_feature_LDA, train_label)\n",
    "# plt.xlabel('LDA axis 1') \n",
    "# plt.ylabel('LDA axis 2')\n",
    "# plt.title('Use LDA to reduce dim to 2')\n",
    "\n",
    "# # plot n_components = 3\n",
    "# plot_3D(train_feature_LDA)"
   ]
  },
  {
   "attachments": {},
   "cell_type": "markdown",
   "metadata": {},
   "source": [
    "## t-SNE"
   ]
  },
  {
   "cell_type": "code",
   "execution_count": null,
   "metadata": {},
   "outputs": [],
   "source": [
    "from sklearn.manifold import TSNE\n",
    "tsne = TSNE(n_components = 3)\n",
    "train_feature_filted_by_tSNE_3D = tsne.fit_transform(train_feature)"
   ]
  },
  {
   "attachments": {},
   "cell_type": "markdown",
   "metadata": {},
   "source": [
    "## Kernelized PCA"
   ]
  },
  {
   "cell_type": "code",
   "execution_count": null,
   "metadata": {},
   "outputs": [],
   "source": [
    "# from sklearn.decomposition import KernelPCA\n",
    "# kpca = KernelPCA(kernel='rbf', n_components=2)\n",
    "# train_feature_kpca = kpca.fit_transform(train_feature)"
   ]
  },
  {
   "attachments": {},
   "cell_type": "markdown",
   "metadata": {},
   "source": [
    "# Train"
   ]
  },
  {
   "attachments": {},
   "cell_type": "markdown",
   "metadata": {},
   "source": [
    "## linear model"
   ]
  },
  {
   "cell_type": "code",
   "execution_count": null,
   "metadata": {},
   "outputs": [],
   "source": [
    "# # use logistic regression for multi-classification 2\n",
    "# from sklearn.linear_model import LogisticRegression\n",
    "# clf_LR = LogisticRegression(penalty='l1', multi_class=\"multinomial\", solver='saga', max_iter=10 ** 3,random_state=0)\n",
    "# clf_LR.fit(X_train_RELIEF, y_train)\n",
    "\n",
    "# # coef and intercept\n",
    "# a = clf_LR.coef_\n",
    "# b = clf_LR.intercept_\n",
    "\n",
    "# # accuracy of train set\n",
    "# y_train_pred = clf_LR.predict(X_train_RELIEF)\n",
    "# print(\"accuracy of train set: {}\".format(accuracy(y_train,y_train_pred)))\n",
    "\n",
    "# # accuracy of validation set\n",
    "# y_val_pred = clf_LR.predict(X_val_RELIEF)\n",
    "# print(\"accuracy of validation set: {}\".format(accuracy(y_val,y_val_pred)))"
   ]
  },
  {
   "attachments": {},
   "cell_type": "markdown",
   "metadata": {},
   "source": [
    "## neural network"
   ]
  },
  {
   "cell_type": "code",
   "execution_count": null,
   "metadata": {},
   "outputs": [],
   "source": [
    "# from sklearn.neural_network import MLPClassifier\n",
    "# clf = MLPClassifier(hidden_layer_sizes=(30,30,30), activation='relu', max_iter=1000)\n",
    "# clf.fit(X_train, y_train)\n",
    "\n",
    "# # accuracy of train set\n",
    "# y_train_pred = clf.predict(X_train)\n",
    "# print(\"accuracy of train set: {}\".format(accuracy(y_train,y_train_pred)))\n",
    "\n",
    "# # accuracy of validation set\n",
    "# y_val_pred = clf.predict(X_val_RELIEF)\n",
    "# print(\"accuracy of validation set: {}\".format(accuracy(y_val,y_val_pred)))"
   ]
  },
  {
   "attachments": {},
   "cell_type": "markdown",
   "metadata": {},
   "source": [
    "## SVM"
   ]
  },
  {
   "cell_type": "code",
   "execution_count": null,
   "metadata": {},
   "outputs": [],
   "source": [
    "# from sklearn.svm import SVC\n",
    "# from sklearn.multiclass import OneVsRestClassifier\n",
    "# from sklearn.datasets import make_classification\n",
    "# clf = SVC(random_state=0, kernel='linear')\n",
    "# ovr = OneVsRestClassifier(clf)\n",
    "# ovr.fit(X_train, y_train)\n",
    "\n",
    "# # accuracy of train set\n",
    "# y_train_pred = clf_LR.predict(X_train)\n",
    "# print(\"accuracy of train set: {}\".format(accuracy(y_train,y_train_pred)))\n",
    "\n",
    "# # accuracy of validation set\n",
    "# y_val_pred = clf_LR.predict(X_val_RELIEF)\n",
    "# print(\"accuracy of validation set: {}\".format(accuracy(y_val,y_val_pred)))"
   ]
  },
  {
   "attachments": {},
   "cell_type": "markdown",
   "metadata": {},
   "source": [
    "## XGboost"
   ]
  },
  {
   "cell_type": "code",
   "execution_count": null,
   "metadata": {},
   "outputs": [],
   "source": [
    "# import xgboost as xgb\n",
    "# clf = xgb.XGBClassifier(booster = 'gbtree', num_class = 4, use_label_encoder = False, eval_metric = 'mlogloss')\n",
    "# clf.fit(X_train, y_train)\n",
    "\n",
    "# # accuracy of train set\n",
    "# y_train_pred = clf_LR.predict(X_train)\n",
    "# print(\"accuracy of train set: {}\".format(accuracy(y_train,y_train_pred)))\n",
    "\n",
    "# # accuracy of validation set\n",
    "# y_val_pred = clf_LR.predict(X_val_RELIEF)\n",
    "# print(\"accuracy of validation set: {}\".format(accuracy(y_val,y_val_pred)))"
   ]
  }
 ],
 "metadata": {
  "kernelspec": {
   "display_name": "machine_learning_2022FA",
   "language": "python",
   "name": "python3"
  },
  "language_info": {
   "codemirror_mode": {
    "name": "ipython",
    "version": 3
   },
   "file_extension": ".py",
   "mimetype": "text/x-python",
   "name": "python",
   "nbconvert_exporter": "python",
   "pygments_lexer": "ipython3",
   "version": "3.9.7"
  },
  "orig_nbformat": 4,
  "vscode": {
   "interpreter": {
    "hash": "183f961500e3762240ea4c2192e53c295752fca9a10f707371896b6e323d32f8"
   }
  }
 },
 "nbformat": 4,
 "nbformat_minor": 2
}
