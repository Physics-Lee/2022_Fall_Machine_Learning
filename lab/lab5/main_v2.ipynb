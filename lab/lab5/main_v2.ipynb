{
 "cells": [
  {
   "cell_type": "code",
   "execution_count": null,
   "metadata": {},
   "outputs": [],
   "source": [
    "import pandas as pd\n",
    "import numpy as np\n",
    "\n",
    "# 读取 csv 文件。\n",
    "data = pd.read_csv('Dataset/train_feature.csv')\n",
    "\n",
    "# 计算每一列的中位数和标准差\n",
    "medians = data.median()\n",
    "stds = data.std()\n",
    "\n",
    "# 对大于 1000 的替换为中位数\n",
    "for col in data.columns:\n",
    "    data.loc[data[col] > 1000, col] = medians[col]\n",
    "\n",
    "# 计算相关矩阵\n",
    "corr_matrix = data.corr()\n",
    "\n",
    "# 根据每一行中绝对值大于 0.7 的元素个数排序，打印前面十项\n",
    "sort_order = corr_matrix.abs().gt(0.7).sum(axis=1).sort_values(ascending=False)\n",
    "for i in sort_order.index[:10]:\n",
    "    print(\"Index: \", i, \", Count: \", sort_order[i])"
   ]
  },
  {
   "cell_type": "code",
   "execution_count": null,
   "metadata": {},
   "outputs": [],
   "source": [
    "def my_print(corr_matrix, r_threshold):\n",
    "    abs_corr_matrix = np.abs(corr_matrix)\n",
    "    count_array = np.sum(abs_corr_matrix > r_threshold, axis=1)\n",
    "    sort_order = np.argsort(count_array)[::-1]\n",
    "\n",
    "    for i in sort_order[:100]:\n",
    "        print(\"Index: \", i, \", Count: \", count_array[i])\n",
    "\n",
    "corr_matrix_ndarray = corr_matrix.values\n",
    "r_threshold = 0.7\n",
    "my_print(corr_matrix_ndarray, r_threshold)"
   ]
  },
  {
   "attachments": {},
   "cell_type": "markdown",
   "metadata": {},
   "source": [
    "This student's code's input and output are really very clear."
   ]
  }
 ],
 "metadata": {
  "kernelspec": {
   "display_name": "base",
   "language": "python",
   "name": "python3"
  },
  "language_info": {
   "codemirror_mode": {
    "name": "ipython",
    "version": 3
   },
   "file_extension": ".py",
   "mimetype": "text/x-python",
   "name": "python",
   "nbconvert_exporter": "python",
   "pygments_lexer": "ipython3",
   "version": "3.9.7"
  },
  "orig_nbformat": 4
 },
 "nbformat": 4,
 "nbformat_minor": 2
}
